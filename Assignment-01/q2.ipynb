{
 "cells": [
  {
   "cell_type": "markdown",
   "id": "4847bf7b",
   "metadata": {},
   "source": [
    "## Definitions (undirected graphs)\n",
    "\n",
    "* **Eulerian trail (open Eulerian path)**\n",
    "  A walk that uses every edge **exactly once**, starting and ending at (possibly) different vertices.\n",
    "\n",
    "  **Exists iff** the graph is connected when you ignore isolated vertices and it has **exactly two** odd-degree vertices (the trail starts/ends at those).\n",
    "\n",
    "* **Eulerian circuit (Eulerian cycle)**\n",
    "  A closed walk that uses every edge **exactly once** and starts/ends at the **same** vertex.\n",
    "\n",
    "  **Exists iff** the graph is connected when you ignore isolated vertices and **all** vertices have **even** degree.\n",
    "\n",
    "> Handshaking lemma reminder: the number of odd-degree vertices in any graph is even."
   ]
  },
  {
   "cell_type": "code",
   "execution_count": 11,
   "id": "d4369f4b",
   "metadata": {},
   "outputs": [
    {
     "name": "stdout",
     "output_type": "stream",
     "text": [
      "|V|=34, |E|=78\n"
     ]
    }
   ],
   "source": [
    "import networkx as nx\n",
    "\n",
    "EDGE_FILE = \"out.ucidata-zachary\"  # keep this file next to the notebook\n",
    "\n",
    "G = nx.read_edgelist(\n",
    "    EDGE_FILE,\n",
    "    comments=\"%\",         # ignore header lines starting with '%'\n",
    "    nodetype=int,\n",
    "    create_using=nx.Graph()\n",
    ")\n",
    "\n",
    "print(f\"|V|={G.number_of_nodes()}, |E|={G.number_of_edges()}\")\n"
   ]
  },
  {
   "cell_type": "code",
   "execution_count": 12,
   "id": "4b40ec04",
   "metadata": {},
   "outputs": [
    {
     "name": "stdout",
     "output_type": "stream",
     "text": [
      "is_eulerian (circuit)?       False\n",
      "has_eulerian_path (trail)?   False\n",
      "#odd-degree vertices = 12\n",
      "odd-degree vertices  : [2, 5, 9, 11, 12, 14, 20, 24, 25, 26, 29, 34]\n",
      "is_semieulerian (trail only)? False\n"
     ]
    }
   ],
   "source": [
    "# Basic Euler tests (NetworkX built-ins)\n",
    "print(\"is_eulerian (circuit)?      \", nx.is_eulerian(G))        # all degrees even?\n",
    "print(\"has_eulerian_path (trail)?  \", nx.has_eulerian_path(G))  # exactly 0 or 2 odd degrees?\n",
    "\n",
    "# Inspect odd-degree vertices (for reporting)\n",
    "odd = sorted([u for u, d in G.degree() if d % 2 == 1])\n",
    "print(f\"#odd-degree vertices = {len(odd)}\")\n",
    "print(\"odd-degree vertices  :\", odd)\n",
    "\n",
    "# (Optional) NetworkX also exposes a convenience:\n",
    "print(\"is_semieulerian (trail only)?\", nx.is_semieulerian(G))\n"
   ]
  },
  {
   "cell_type": "code",
   "execution_count": 13,
   "id": "099933e5",
   "metadata": {},
   "outputs": [
    {
     "name": "stdout",
     "output_type": "stream",
     "text": [
      "Augmented graph is Eulerian? -> True\n",
      "Number of duplicated (added) edges: 8\n",
      "Duplicated edges (edge, extra_copies):\n",
      "[((1, 9), 1), ((1, 12), 1), ((2, 20), 1), ((5, 11), 1), ((14, 34), 1), ((24, 34), 1), ((26, 25), 1), ((29, 34), 1)]\n"
     ]
    }
   ],
   "source": [
    "# Transform to an Eulerian multigraph\n",
    "H_circuit = nx.eulerize(G)\n",
    "print(\"Augmented graph is Eulerian? ->\", nx.is_eulerian(H_circuit))\n",
    "\n",
    "# Report how many edges were added (counting multiplicity)\n",
    "added_edges_count = H_circuit.number_of_edges() - G.number_of_edges()\n",
    "print(\"Number of duplicated (added) edges:\", added_edges_count)\n",
    "\n",
    "# Which original edges were duplicated (u,v with multiplicity > 1)?\n",
    "from collections import Counter\n",
    "\n",
    "def duplicated_edges(multig):\n",
    "    base = nx.Graph(multig)  # underlying simple graph\n",
    "    dup = []\n",
    "    for u, v in base.edges():\n",
    "        k = multig.number_of_edges(u, v)\n",
    "        if k > 1:\n",
    "            dup.append(((u, v), k - 1))  # how many extra copies\n",
    "    return sorted(dup)\n",
    "\n",
    "print(\"Duplicated edges (edge, extra_copies):\")\n",
    "print(duplicated_edges(H_circuit))\n"
   ]
  },
  {
   "cell_type": "code",
   "execution_count": 14,
   "id": "5c30f535",
   "metadata": {},
   "outputs": [
    {
     "name": "stdout",
     "output_type": "stream",
     "text": [
      "Chosen trail endpoints: (5, 24)\n",
      "Matched pairs (to duplicate paths): [(2, 20), (9, 11), (12, 14), (25, 26), (29, 34)]\n",
      "Now semieulerian? True\n",
      "Has Eulerian path? True\n"
     ]
    }
   ],
   "source": [
    "from itertools import combinations\n",
    "from networkx.algorithms.matching import min_weight_matching\n",
    "\n",
    "# 1) All-pairs shortest-path distances (NetworkX)\n",
    "dist = dict(nx.all_pairs_shortest_path_length(G))\n",
    "\n",
    "odd = [u for u, d in G.degree() if d % 2 == 1]\n",
    "\n",
    "# 2) Pick trail endpoints among odd vertices.\n",
    "#    Heuristic (good and simple): choose the farthest odd-odd pair.\n",
    "s, t = max(\n",
    "    ((u, v) for u, v in combinations(odd, 2)),\n",
    "    key=lambda pair: dist[pair[0]][pair[1]]\n",
    ")\n",
    "print(\"Chosen trail endpoints:\", (s, t))\n",
    "\n",
    "# 3) Build complete graph on the remaining odd vertices with weights = shortest-path lengths\n",
    "rest = [x for x in odd if x not in (s, t)]\n",
    "K = nx.Graph()\n",
    "K.add_nodes_from(rest)\n",
    "for u, v in combinations(rest, 2):\n",
    "    K.add_edge(u, v, weight=dist[u][v])\n",
    "\n",
    "# 4) Minimum-weight perfect matching (NetworkX)\n",
    "M = min_weight_matching(K, weight=\"weight\")\n",
    "print(\"Matched pairs (to duplicate paths):\", sorted(tuple(sorted(p)) for p in M))\n",
    "\n",
    "# 5) Create a MultiGraph with duplicated shortest paths for each matched pair\n",
    "M_trail = nx.MultiGraph(G)\n",
    "for u, v in M:\n",
    "    path = nx.shortest_path(G, u, v)   # NetworkX shortest path\n",
    "    for a, b in zip(path, path[1:]):\n",
    "        M_trail.add_edge(a, b)         # duplicate once\n",
    "\n",
    "print(\"Now semieulerian?\", nx.is_semieulerian(M_trail))\n",
    "print(\"Has Eulerian path?\", nx.has_eulerian_path(M_trail))\n"
   ]
  },
  {
   "cell_type": "code",
   "execution_count": 15,
   "id": "9aeea824",
   "metadata": {},
   "outputs": [
    {
     "name": "stdout",
     "output_type": "stream",
     "text": [
      "Eulerian circuit : [(1, 32), (32, 34), (34, 23), (23, 33), (33, 21), (21, 34), (34, 19), (19, 33), (33, 16), (16, 34), (34, 15), (15, 33), (33, 34), (34, 31), (31, 33), (33, 30), (30, 34), (34, 29), (29, 34), (34, 27), (27, 30), (30, 24), (24, 34), (34, 28), (28, 24), (24, 33), (33, 32), (32, 29), (29, 3), (3, 28), (28, 25), (25, 32), (32, 26), (26, 25), (25, 26), (26, 24), (24, 34), (34, 14), (14, 34), (34, 10), (10, 3), (3, 33), (33, 9), (9, 34), (34, 20), (20, 2), (2, 22), (22, 1), (1, 20), (20, 2), (2, 31), (31, 9), (9, 3), (3, 14), (14, 2), (2, 18), (18, 1), (1, 14), (14, 4), (4, 8), (8, 3), (3, 4), (4, 13), (13, 1), (1, 12), (12, 1), (1, 9), (9, 1), (1, 11), (11, 5), (5, 11), (11, 6), (6, 17), (17, 7), (7, 6), (6, 1), (1, 7), (7, 5), (5, 1), (1, 8), (8, 2), (2, 4), (4, 1), (1, 3), (3, 2), (2, 1)]\n",
      "Eulerian trail : [(5, 1), (1, 2), (2, 3), (3, 1), (1, 4), (4, 2), (2, 8), (8, 1), (1, 6), (6, 7), (7, 1), (1, 9), (9, 1), (1, 11), (11, 5), (5, 7), (7, 17), (17, 6), (6, 11), (11, 1), (1, 12), (12, 1), (1, 13), (13, 4), (4, 3), (3, 8), (8, 4), (4, 14), (14, 1), (1, 14), (14, 2), (2, 18), (18, 1), (1, 20), (20, 2), (2, 20), (20, 34), (34, 9), (9, 3), (3, 10), (10, 34), (34, 14), (14, 3), (3, 28), (28, 24), (24, 26), (26, 25), (25, 26), (26, 32), (32, 1), (1, 22), (22, 2), (2, 31), (31, 9), (9, 33), (33, 3), (3, 29), (29, 32), (32, 25), (25, 28), (28, 34), (34, 24), (24, 30), (30, 27), (27, 34), (34, 29), (29, 34), (34, 30), (30, 33), (33, 31), (31, 34), (34, 32), (32, 33), (33, 15), (15, 34), (34, 33), (33, 16), (16, 34), (34, 19), (19, 33), (33, 21), (21, 34), (34, 23), (23, 33), (33, 24)]\n"
     ]
    }
   ],
   "source": [
    "# Circuit on the eulerized graph\n",
    "circuit_edges = list(nx.eulerian_circuit(H_circuit))\n",
    "print(\"Eulerian circuit :\", circuit_edges)\n",
    "\n",
    "# Trail on the semi-eulerized graph\n",
    "trail_edges = list(nx.eulerian_path(M_trail))\n",
    "print(\"Eulerian trail :\", trail_edges)\n"
   ]
  }
 ],
 "metadata": {
  "kernelspec": {
   "display_name": "py312",
   "language": "python",
   "name": "python3"
  },
  "language_info": {
   "codemirror_mode": {
    "name": "ipython",
    "version": 3
   },
   "file_extension": ".py",
   "mimetype": "text/x-python",
   "name": "python",
   "nbconvert_exporter": "python",
   "pygments_lexer": "ipython3",
   "version": "3.12.3"
  }
 },
 "nbformat": 4,
 "nbformat_minor": 5
}
